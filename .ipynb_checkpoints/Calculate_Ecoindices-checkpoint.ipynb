version https://git-lfs.github.com/spec/v1
oid sha256:fcac32da13d40f9f9c76ab949302482b763c6bd82beab35845c85007ea40dae0
size 325730560
